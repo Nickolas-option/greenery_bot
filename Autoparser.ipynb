{
 "cells": [
  {
   "cell_type": "code",
   "execution_count": 12,
   "id": "2d6d1db4",
   "metadata": {},
   "outputs": [
    {
     "name": "stdout",
     "output_type": "stream",
     "text": [
      "[*********************100%%**********************]  1 of 1 completed\n",
      "[*********************100%%**********************]  1 of 1 completed\n",
      "[*********************100%%**********************]  1 of 1 completed\n"
     ]
    },
    {
     "ename": "FileNotFoundError",
     "evalue": "[Errno 2] No such file or directory: 'current_requests.csv'",
     "output_type": "error",
     "traceback": [
      "\u001b[0;31m---------------------------------------------------------------------------\u001b[0m",
      "\u001b[0;31mFileNotFoundError\u001b[0m                         Traceback (most recent call last)",
      "Cell \u001b[0;32mIn[12], line 69\u001b[0m\n\u001b[1;32m     67\u001b[0m my_scheduler \u001b[38;5;241m=\u001b[39m sched\u001b[38;5;241m.\u001b[39mscheduler(time\u001b[38;5;241m.\u001b[39mtime, time\u001b[38;5;241m.\u001b[39msleep)\n\u001b[1;32m     68\u001b[0m my_scheduler\u001b[38;5;241m.\u001b[39menter(tick_seconds, \u001b[38;5;241m1\u001b[39m, update_stocks_collect_stat, (my_scheduler,))\n\u001b[0;32m---> 69\u001b[0m \u001b[43mmy_scheduler\u001b[49m\u001b[38;5;241;43m.\u001b[39;49m\u001b[43mrun\u001b[49m\u001b[43m(\u001b[49m\u001b[43m)\u001b[49m\n",
      "File \u001b[0;32m~/anaconda3/lib/python3.10/sched.py:151\u001b[0m, in \u001b[0;36mscheduler.run\u001b[0;34m(self, blocking)\u001b[0m\n\u001b[1;32m    149\u001b[0m     delayfunc(time \u001b[38;5;241m-\u001b[39m now)\n\u001b[1;32m    150\u001b[0m \u001b[38;5;28;01melse\u001b[39;00m:\n\u001b[0;32m--> 151\u001b[0m     \u001b[43maction\u001b[49m\u001b[43m(\u001b[49m\u001b[38;5;241;43m*\u001b[39;49m\u001b[43margument\u001b[49m\u001b[43m,\u001b[49m\u001b[43m \u001b[49m\u001b[38;5;241;43m*\u001b[39;49m\u001b[38;5;241;43m*\u001b[39;49m\u001b[43mkwargs\u001b[49m\u001b[43m)\u001b[49m\n\u001b[1;32m    152\u001b[0m     delayfunc(\u001b[38;5;241m0\u001b[39m)\n",
      "Cell \u001b[0;32mIn[12], line 60\u001b[0m, in \u001b[0;36mupdate_stocks_collect_stat\u001b[0;34m(scheduler)\u001b[0m\n\u001b[1;32m     58\u001b[0m     stats\u001b[38;5;241m.\u001b[39mwrite(\u001b[38;5;28mstr\u001b[39m(iteration_timestamp) \u001b[38;5;241m+\u001b[39m \u001b[38;5;124m\"\u001b[39m\u001b[38;5;124m,\u001b[39m\u001b[38;5;124m\"\u001b[39m)\n\u001b[1;32m     59\u001b[0m     stats\u001b[38;5;241m.\u001b[39mwrite(raw_row)\n\u001b[0;32m---> 60\u001b[0m     \u001b[43mos\u001b[49m\u001b[38;5;241;43m.\u001b[39;49m\u001b[43mremove\u001b[49m\u001b[43m(\u001b[49m\u001b[43mrequests_filename\u001b[49m\u001b[43m)\u001b[49m\n\u001b[1;32m     61\u001b[0m stats\u001b[38;5;241m.\u001b[39mwrite(\u001b[38;5;124m\"\u001b[39m\u001b[38;5;130;01m\\n\u001b[39;00m\u001b[38;5;124m\"\u001b[39m)\n\u001b[1;32m     62\u001b[0m requests\u001b[38;5;241m.\u001b[39mclose()\n",
      "\u001b[0;31mFileNotFoundError\u001b[0m: [Errno 2] No such file or directory: 'current_requests.csv'"
     ]
    }
   ],
   "source": [
    "import datetime\n",
    "import numpy as np\n",
    "import os\n",
    "import pandas as pd\n",
    "import sched\n",
    "import time\n",
    "import yfinance as yf\n",
    "\n",
    "tick_seconds = 30\n",
    "def current_stock_df_name(stock_name):\n",
    "    return \"current_\" + stock_name + \".csv\"\n",
    "\n",
    "def history_stock_df_name(stock_name):\n",
    "    return \"history_\" + stock_name + \".csv\"\n",
    "\n",
    "def initialize_file_if_not_exists(filename, file_content):\n",
    "    if not (os.path.isfile(filename)):\n",
    "        initialized_file = open(filename, \"w\")\n",
    "        initialized_file.write(file_content)\n",
    "        initialized_file.close()\n",
    "    \n",
    "requests_filename = \"current_requests.csv\"\n",
    "stats_filename = \"requests_stats.csv\"\n",
    "stats_header = \"timestamp,stock,requests\\n\"\n",
    "stock_df_header = \"Datetime,Open,High,Low,Close,Adj Close,Volume\\n\"\n",
    "\n",
    "def update_stocks_collect_stat(scheduler): \n",
    "    import_interval = \"5m\"\n",
    "    period_of_import = \"60m\"\n",
    "    cur_df = yf.download(tickers = \"TSLA\", period = period_of_import, interval = import_interval)\n",
    "    iteration_timestamp = datetime.datetime.now()\n",
    "    global tick_seconds, requests_filename, stats_filename, stats_header, stock_df_header\n",
    "    \n",
    "    if (os.path.isfile(requests_filename)):\n",
    "        requests = open(requests_filename, \"r\")\n",
    "        requests_heading = requests.readline()\n",
    "        initialize_file_if_not_exists(stats_filename, stats_header)\n",
    "        stats = open(stats_filename, \"a\")\n",
    "        for raw_row in requests:\n",
    "            row = raw_row.split(\",\")\n",
    "            stock_name = row[0]\n",
    "            try:\n",
    "                if (os.path.isfile(current_stock_df_name(stock_name))):\n",
    "                    initialize_file_if_not_exists(history_stock_df_name(stock_name), stock_df_header)\n",
    "                    history_df = open(history_stock_df_name(stock_name), \"a\")\n",
    "                    \n",
    "                    cur_df = open(current_stock_df_name(stock_name), \"r\")\n",
    "                    cur_df.readline() #Skip heading\n",
    "                    for cur_df_row in cur_df:\n",
    "                        history_df.write(cur_df_row)\n",
    "                    cur_df.close()\n",
    "                    history_df.close()\n",
    "                cur_df = yf.download(tickers = stock_name, period = period_of_import, interval = import_interval)\n",
    "                cur_df.to_csv(current_stock_df_name(stock_name))\n",
    "            except:\n",
    "                print(f\"Error has occured\")\n",
    "            stats.write(str(iteration_timestamp) + \",\")\n",
    "            stats.write(raw_row)\n",
    "            os.remove(requests_filename)\n",
    "        stats.write(\"\\n\")\n",
    "        requests.close()\n",
    "        stats.close()\n",
    "    print(\"Iteration has finished\")\n",
    "    scheduler.enter(tick_seconds, 1, update_stocks_collect_stat, (scheduler,))\n",
    "\n",
    "my_scheduler = sched.scheduler(time.time, time.sleep)\n",
    "my_scheduler.enter(tick_seconds, 1, update_stocks_collect_stat, (my_scheduler,))\n",
    "my_scheduler.run()"
   ]
  },
  {
   "cell_type": "code",
   "execution_count": 8,
   "id": "0d77b60f",
   "metadata": {},
   "outputs": [
    {
     "name": "stdout",
     "output_type": "stream",
     "text": [
      "[*********************100%%**********************]  1 of 1 completed\n"
     ]
    }
   ],
   "source": [
    "cur_df = yf.download(tickers = \"TSLA\", period = \"5d\", interval = \"60m\")"
   ]
  },
  {
   "cell_type": "code",
   "execution_count": null,
   "id": "3f7ec42b",
   "metadata": {},
   "outputs": [],
   "source": []
  }
 ],
 "metadata": {
  "kernelspec": {
   "display_name": "Python 3 (ipykernel)",
   "language": "python",
   "name": "python3"
  },
  "language_info": {
   "codemirror_mode": {
    "name": "ipython",
    "version": 3
   },
   "file_extension": ".py",
   "mimetype": "text/x-python",
   "name": "python",
   "nbconvert_exporter": "python",
   "pygments_lexer": "ipython3",
   "version": "3.10.9"
  }
 },
 "nbformat": 4,
 "nbformat_minor": 5
}
