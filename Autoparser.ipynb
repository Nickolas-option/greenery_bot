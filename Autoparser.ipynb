{
 "cells": [
  {
   "cell_type": "code",
   "execution_count": 10,
   "id": "2d6d1db4",
   "metadata": {},
   "outputs": [
    {
     "name": "stdout",
     "output_type": "stream",
     "text": [
      "[*********************100%%**********************]  1 of 1 completed\n",
      "[*********************100%%**********************]  1 of 1 completed\n",
      "[*********************100%%**********************]  1 of 1 completed\n",
      "Iteration has finished\n",
      "[*********************100%%**********************]  1 of 1 completed\n",
      "[*********************100%%**********************]  1 of 1 completed\n",
      "[*********************100%%**********************]  1 of 1 completed\n",
      "Iteration has finished\n",
      "[*********************100%%**********************]  1 of 1 completed\n",
      "[*********************100%%**********************]  1 of 1 completed\n",
      "[*********************100%%**********************]  1 of 1 completed\n",
      "Iteration has finished\n"
     ]
    },
    {
     "ename": "KeyboardInterrupt",
     "evalue": "",
     "output_type": "error",
     "traceback": [
      "\u001b[0;31m---------------------------------------------------------------------------\u001b[0m",
      "\u001b[0;31mKeyboardInterrupt\u001b[0m                         Traceback (most recent call last)",
      "Cell \u001b[0;32mIn[10], line 51\u001b[0m\n\u001b[1;32m     49\u001b[0m my_scheduler \u001b[38;5;241m=\u001b[39m sched\u001b[38;5;241m.\u001b[39mscheduler(time\u001b[38;5;241m.\u001b[39mtime, time\u001b[38;5;241m.\u001b[39msleep)\n\u001b[1;32m     50\u001b[0m my_scheduler\u001b[38;5;241m.\u001b[39menter(tick_seconds, \u001b[38;5;241m1\u001b[39m, update_stocks_collect_stat, (my_scheduler,))\n\u001b[0;32m---> 51\u001b[0m \u001b[43mmy_scheduler\u001b[49m\u001b[38;5;241;43m.\u001b[39;49m\u001b[43mrun\u001b[49m\u001b[43m(\u001b[49m\u001b[43m)\u001b[49m\n",
      "File \u001b[0;32m~/anaconda3/lib/python3.10/sched.py:149\u001b[0m, in \u001b[0;36mscheduler.run\u001b[0;34m(self, blocking)\u001b[0m\n\u001b[1;32m    147\u001b[0m     \u001b[38;5;28;01mif\u001b[39;00m \u001b[38;5;129;01mnot\u001b[39;00m blocking:\n\u001b[1;32m    148\u001b[0m         \u001b[38;5;28;01mreturn\u001b[39;00m time \u001b[38;5;241m-\u001b[39m now\n\u001b[0;32m--> 149\u001b[0m     \u001b[43mdelayfunc\u001b[49m\u001b[43m(\u001b[49m\u001b[43mtime\u001b[49m\u001b[43m \u001b[49m\u001b[38;5;241;43m-\u001b[39;49m\u001b[43m \u001b[49m\u001b[43mnow\u001b[49m\u001b[43m)\u001b[49m\n\u001b[1;32m    150\u001b[0m \u001b[38;5;28;01melse\u001b[39;00m:\n\u001b[1;32m    151\u001b[0m     action(\u001b[38;5;241m*\u001b[39margument, \u001b[38;5;241m*\u001b[39m\u001b[38;5;241m*\u001b[39mkwargs)\n",
      "\u001b[0;31mKeyboardInterrupt\u001b[0m: "
     ]
    }
   ],
   "source": [
    "import datetime\n",
    "import numpy as np\n",
    "import os.path\n",
    "import pandas as pd\n",
    "import sched\n",
    "import time\n",
    "import yfinance as yf\n",
    "\n",
    "tick_seconds = 20\n",
    "\n",
    "def current_stock_df_name(stock_name):\n",
    "    return \"current_\" + stock_name + \".csv\"\n",
    "\n",
    "def history_stock_df_name(timestamp, stock_name):\n",
    "    return str(timestamp) + stock_name + \".csv\"\n",
    "\n",
    "requests_filename = \"current_requests.csv\"\n",
    "stats_filename = \"stats.csv\"\n",
    "def update_stocks_collect_stat(scheduler): \n",
    "    import_interval = \"5m\"\n",
    "    period_of_import = \"60m\"\n",
    "    cur_df = yf.download(tickers = \"TSLA\", period = period_of_import, interval = import_interval)\n",
    "    iteration_timestamp = datetime.datetime.now()\n",
    "    global tick_seconds, requests_filename, stats_filename\n",
    "    \n",
    "    requests = open(requests_filename, \"r\")\n",
    "    stats = open(stats_filename, \"a\")\n",
    "    for raw_row in requests:\n",
    "        row = raw_row.split(\",\")\n",
    "        stock_name = row[0]\n",
    "        try:\n",
    "            if (os.path.isfile(current_stock_df_name(stock_name))):\n",
    "                cur_df = pd.read_csv(current_stock_df_name(stock_name))\n",
    "                cur_df.to_csv(history_stock_df_name(iteration_timestamp, stock_name))\n",
    "            cur_df = yf.download(tickers = stock_name, period = period_of_import, interval = import_interval)\n",
    "            cur_df.to_csv(current_stock_df_name(stock_name))\n",
    "        except:\n",
    "            print(f\"Error has occured\")\n",
    "        stats.write(str(iteration_timestamp) + \",\")\n",
    "        stats.write(raw_row)\n",
    "    stats.write(\"\\n\")\n",
    "    requests.close()\n",
    "    stats.close()\n",
    "    print(\"Iteration has finished\")\n",
    "    scheduler.enter(tick_seconds, 1, update_stocks_collect_stat, (scheduler,))\n",
    "\n",
    "my_scheduler = sched.scheduler(time.time, time.sleep)\n",
    "my_scheduler.enter(tick_seconds, 1, update_stocks_collect_stat, (my_scheduler,))\n",
    "my_scheduler.run()"
   ]
  },
  {
   "cell_type": "code",
   "execution_count": 8,
   "id": "0d77b60f",
   "metadata": {},
   "outputs": [
    {
     "name": "stdout",
     "output_type": "stream",
     "text": [
      "[*********************100%%**********************]  1 of 1 completed\n"
     ]
    }
   ],
   "source": [
    "cur_df = yf.download(tickers = \"TSLA\", period = \"5d\", interval = \"60m\")"
   ]
  },
  {
   "cell_type": "code",
   "execution_count": null,
   "id": "3f7ec42b",
   "metadata": {},
   "outputs": [],
   "source": []
  }
 ],
 "metadata": {
  "kernelspec": {
   "display_name": "Python 3 (ipykernel)",
   "language": "python",
   "name": "python3"
  },
  "language_info": {
   "codemirror_mode": {
    "name": "ipython",
    "version": 3
   },
   "file_extension": ".py",
   "mimetype": "text/x-python",
   "name": "python",
   "nbconvert_exporter": "python",
   "pygments_lexer": "ipython3",
   "version": "3.10.9"
  }
 },
 "nbformat": 4,
 "nbformat_minor": 5
}
